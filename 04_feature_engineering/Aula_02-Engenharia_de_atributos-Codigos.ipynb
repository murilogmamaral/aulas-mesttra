{
 "cells": [
  {
   "cell_type": "markdown",
   "metadata": {},
   "source": [
    "# Aula 2: Feature Engineering"
   ]
  },
  {
   "cell_type": "markdown",
   "metadata": {},
   "source": [
    "## Redução da dimensionalidade"
   ]
  },
  {
   "cell_type": "code",
   "execution_count": 1,
   "metadata": {
    "ExecuteTime": {
     "end_time": "2021-09-01T22:45:07.786494Z",
     "start_time": "2021-09-01T22:45:04.353199Z"
    }
   },
   "outputs": [],
   "source": [
    "import seaborn as sns"
   ]
  },
  {
   "cell_type": "code",
   "execution_count": 2,
   "metadata": {
    "ExecuteTime": {
     "end_time": "2021-09-01T22:45:20.187166Z",
     "start_time": "2021-09-01T22:45:20.168158Z"
    }
   },
   "outputs": [],
   "source": [
    "df_iris = sns.load_dataset('iris')"
   ]
  },
  {
   "cell_type": "code",
   "execution_count": 3,
   "metadata": {
    "ExecuteTime": {
     "end_time": "2021-09-01T22:45:23.534893Z",
     "start_time": "2021-09-01T22:45:23.472405Z"
    }
   },
   "outputs": [
    {
     "data": {
      "text/html": [
       "<div>\n",
       "<style scoped>\n",
       "    .dataframe tbody tr th:only-of-type {\n",
       "        vertical-align: middle;\n",
       "    }\n",
       "\n",
       "    .dataframe tbody tr th {\n",
       "        vertical-align: top;\n",
       "    }\n",
       "\n",
       "    .dataframe thead th {\n",
       "        text-align: right;\n",
       "    }\n",
       "</style>\n",
       "<table border=\"1\" class=\"dataframe\">\n",
       "  <thead>\n",
       "    <tr style=\"text-align: right;\">\n",
       "      <th></th>\n",
       "      <th>sepal_length</th>\n",
       "      <th>sepal_width</th>\n",
       "      <th>petal_length</th>\n",
       "      <th>petal_width</th>\n",
       "      <th>species</th>\n",
       "    </tr>\n",
       "  </thead>\n",
       "  <tbody>\n",
       "    <tr>\n",
       "      <th>0</th>\n",
       "      <td>5.1</td>\n",
       "      <td>3.5</td>\n",
       "      <td>1.4</td>\n",
       "      <td>0.2</td>\n",
       "      <td>setosa</td>\n",
       "    </tr>\n",
       "    <tr>\n",
       "      <th>1</th>\n",
       "      <td>4.9</td>\n",
       "      <td>3.0</td>\n",
       "      <td>1.4</td>\n",
       "      <td>0.2</td>\n",
       "      <td>setosa</td>\n",
       "    </tr>\n",
       "    <tr>\n",
       "      <th>2</th>\n",
       "      <td>4.7</td>\n",
       "      <td>3.2</td>\n",
       "      <td>1.3</td>\n",
       "      <td>0.2</td>\n",
       "      <td>setosa</td>\n",
       "    </tr>\n",
       "  </tbody>\n",
       "</table>\n",
       "</div>"
      ],
      "text/plain": [
       "   sepal_length  sepal_width  petal_length  petal_width species\n",
       "0           5.1          3.5           1.4          0.2  setosa\n",
       "1           4.9          3.0           1.4          0.2  setosa\n",
       "2           4.7          3.2           1.3          0.2  setosa"
      ]
     },
     "execution_count": 3,
     "metadata": {},
     "output_type": "execute_result"
    }
   ],
   "source": [
    "df_iris.head(3)"
   ]
  },
  {
   "cell_type": "code",
   "execution_count": 5,
   "metadata": {
    "ExecuteTime": {
     "end_time": "2021-09-01T22:46:31.369920Z",
     "start_time": "2021-09-01T22:46:30.929453Z"
    }
   },
   "outputs": [
    {
     "data": {
      "text/plain": [
       "<matplotlib.axes._subplots.AxesSubplot at 0x174ba7689d0>"
      ]
     },
     "execution_count": 5,
     "metadata": {},
     "output_type": "execute_result"
    },
    {
     "data": {
      "image/png": "[encoded data removed]",
      "text/plain": [
       "<Figure size 432x288 with 1 Axes>"
      ]
     },
     "metadata": {
      "needs_background": "light"
     },
     "output_type": "display_data"
    }
   ],
   "source": [
    "sns.scatterplot(data=df_iris,\n",
    "                x='sepal_length',\n",
    "                y='sepal_width',\n",
    "                hue='species')"
   ]
  },
  {
   "cell_type": "markdown",
   "metadata": {},
   "source": [
    "**Problemas com dados em alta dimensão**\n",
    "- alto custo computacional para realizar o aprendizado\n",
    "- overfitting ao aprender um modelo\n",
    "- os dados podem ter ser altamente correlacionados, frequentemente com correlações espúrias\n",
    "- as distâncias entre um ponto de dados mais próximo e o mais distante podem se tornar equidistantes em dimensões altas, o que pode prejudicar a precisão de algumas ferramentas de análise baseadas em distância.\n",
    "\n",
    "**Importância de redução de dimensionalidade**\n",
    "- reduz tempo de processamento e espaço \n",
    "- ajuda a remover multicolinearidade\n",
    "- facilita visualização em baixas dimensões\n",
    "- remove variáveis irrelevantes"
   ]
  },
  {
   "cell_type": "markdown",
   "metadata": {},
   "source": [
    "![](https://miro.medium.com/max/698/1*WVFe7w1rzZWsmghdvaoXag.png)"
   ]
  },
  {
   "cell_type": "markdown",
   "metadata": {},
   "source": [
    "## Análise Fatorial"
   ]
  },
  {
   "cell_type": "markdown",
   "metadata": {},
   "source": [
    "A análise fatorial é um método estatístico usado para descrever a variabilidade entre variáveis ​​observadas e correlacionadas em termos de um número potencialmente menor de variáveis ​​não observadas chamadas fatores. \n",
    "\n",
    "Por exemplo, é possível que variações em seis variáveis ​​observadas reflitam principalmente as variações em duas variáveis ​​não observadas (subjacentes). A análise fatorial procura por tais variações conjuntas em resposta a variáveis ​​latentes não observadas. \n",
    "\n",
    "As variáveis ​​observadas são modeladas como combinações lineares dos fatores potenciais, mais os termos de \"erro\". **A análise fatorial visa encontrar variáveis ​​latentes independentes.**\n",
    "\n",
    "A teoria por trás dos métodos analíticos de fator é que as informações obtidas sobre as interdependências entre as variáveis ​​observadas podem ser usadas posteriormente para reduzir o conjunto de variáveis ​​em um conjunto de dados.\n",
    "\n",
    "**A Análise Fatorial ajuda na interpretação dos dados, reduzindo o número de variáveis.**\n",
    "\n",
    "![](https://res.cloudinary.com/dchysltjf/image/upload/f_auto,q_auto:best/v1554830233/1.png)\n",
    "\n",
    "A análise fatorial é amplamente utilizada em pesquisa de mercado, publicidade, psicologia, finanças e pesquisa operacional. Os pesquisadores de mercado usam a análise fatorial para identificar clientes sensíveis ao preço, identificar características da marca que influenciam a escolha do consumidor e ajudam a compreender os critérios de seleção de canal para o canal de distribuição.\n",
    "\n"
   ]
  },
  {
   "cell_type": "markdown",
   "metadata": {},
   "source": [
    "### Regressão Múltipla versus Análise Fatorial\n",
    "\n",
    "A regressão múltipla tenta prever o valor de uma variável dependente Y, como uma função linear de uma série de variáveis ​​independentes X. A análise fatorial tenta reduzir uma matriz de variáveis ​​X correlacionadas a um conjunto menor de variáveis ​​não correlacionadas, conhecidas como fatores."
   ]
  },
  {
   "cell_type": "markdown",
   "metadata": {},
   "source": [
    "Nesse estudo da análise fatorial usaremos uma base descrevendo 25 itens de autorrelato de personalidade retirados do International Personality Item Pool (ipip.ori.org). Esses itens foram incluídos como parte do projeto de avaliação de personalidade baseado na web Synthetic Aperture Personality Assessment (SAPA). \n",
    "\n",
    "Os dados de 2.800 indivíduos são incluídos aqui como um conjunto de demonstração para construção de escala, análise fatorial e análise da Teoria de Resposta ao Item. Três variáveis ​​demográficas adicionais (sexo, educação e idade) também estão incluídas. \n",
    "\n",
    "(Fonte: https://vincentarelbundock.github.io/Rdatasets/doc/psych/bfi.html)"
   ]
  },
  {
   "cell_type": "code",
   "execution_count": 6,
   "metadata": {
    "ExecuteTime": {
     "end_time": "2021-09-01T23:12:24.095935Z",
     "start_time": "2021-09-01T23:12:24.084932Z"
    }
   },
   "outputs": [],
   "source": [
    "import matplotlib.pyplot as plt\n",
    "import seaborn as sns\n",
    "import numpy as np\n",
    "import pandas as pd"
   ]
  },
  {
   "cell_type": "code",
   "execution_count": 7,
   "metadata": {
    "ExecuteTime": {
     "end_time": "2021-09-01T23:12:31.450126Z",
     "start_time": "2021-09-01T23:12:31.070381Z"
    }
   },
   "outputs": [],
   "source": [
    "bfi = pd.read_csv(\"https://vincentarelbundock.github.io/Rdatasets/csv/psych/bfi.csv\")"
   ]
  },
  {
   "cell_type": "code",
   "execution_count": 8,
   "metadata": {
    "ExecuteTime": {
     "end_time": "2021-09-01T23:12:35.709280Z",
     "start_time": "2021-09-01T23:12:35.635294Z"
    }
   },
   "outputs": [
    {
     "data": {
      "text/html": [
       "<div>\n",
       "<style scoped>\n",
       "    .dataframe tbody tr th:only-of-type {\n",
       "        vertical-align: middle;\n",
       "    }\n",
       "\n",
       "    .dataframe tbody tr th {\n",
       "        vertical-align: top;\n",
       "    }\n",
       "\n",
       "    .dataframe thead th {\n",
       "        text-align: right;\n",
       "    }\n",
       "</style>\n",
       "<table border=\"1\" class=\"dataframe\">\n",
       "  <thead>\n",
       "    <tr style=\"text-align: right;\">\n",
       "      <th></th>\n",
       "      <th>Unnamed: 0</th>\n",
       "      <th>A1</th>\n",
       "      <th>A2</th>\n",
       "      <th>A3</th>\n",
       "      <th>A4</th>\n",
       "      <th>A5</th>\n",
       "      <th>C1</th>\n",
       "      <th>C2</th>\n",
       "      <th>C3</th>\n",
       "      <th>C4</th>\n",
       "      <th>...</th>\n",
       "      <th>N4</th>\n",
       "      <th>N5</th>\n",
       "      <th>O1</th>\n",
       "      <th>O2</th>\n",
       "      <th>O3</th>\n",
       "      <th>O4</th>\n",
       "      <th>O5</th>\n",
       "      <th>gender</th>\n",
       "      <th>education</th>\n",
       "      <th>age</th>\n",
       "    </tr>\n",
       "  </thead>\n",
       "  <tbody>\n",
       "    <tr>\n",
       "      <th>0</th>\n",
       "      <td>61617</td>\n",
       "      <td>2.0</td>\n",
       "      <td>4.0</td>\n",
       "      <td>3.0</td>\n",
       "      <td>4.0</td>\n",
       "      <td>4.0</td>\n",
       "      <td>2.0</td>\n",
       "      <td>3.0</td>\n",
       "      <td>3.0</td>\n",
       "      <td>4.0</td>\n",
       "      <td>...</td>\n",
       "      <td>2.0</td>\n",
       "      <td>3.0</td>\n",
       "      <td>3.0</td>\n",
       "      <td>6</td>\n",
       "      <td>3.0</td>\n",
       "      <td>4.0</td>\n",
       "      <td>3.0</td>\n",
       "      <td>1</td>\n",
       "      <td>NaN</td>\n",
       "      <td>16</td>\n",
       "    </tr>\n",
       "    <tr>\n",
       "      <th>1</th>\n",
       "      <td>61618</td>\n",
       "      <td>2.0</td>\n",
       "      <td>4.0</td>\n",
       "      <td>5.0</td>\n",
       "      <td>2.0</td>\n",
       "      <td>5.0</td>\n",
       "      <td>5.0</td>\n",
       "      <td>4.0</td>\n",
       "      <td>4.0</td>\n",
       "      <td>3.0</td>\n",
       "      <td>...</td>\n",
       "      <td>5.0</td>\n",
       "      <td>5.0</td>\n",
       "      <td>4.0</td>\n",
       "      <td>2</td>\n",
       "      <td>4.0</td>\n",
       "      <td>3.0</td>\n",
       "      <td>3.0</td>\n",
       "      <td>2</td>\n",
       "      <td>NaN</td>\n",
       "      <td>18</td>\n",
       "    </tr>\n",
       "    <tr>\n",
       "      <th>2</th>\n",
       "      <td>61620</td>\n",
       "      <td>5.0</td>\n",
       "      <td>4.0</td>\n",
       "      <td>5.0</td>\n",
       "      <td>4.0</td>\n",
       "      <td>4.0</td>\n",
       "      <td>4.0</td>\n",
       "      <td>5.0</td>\n",
       "      <td>4.0</td>\n",
       "      <td>2.0</td>\n",
       "      <td>...</td>\n",
       "      <td>2.0</td>\n",
       "      <td>3.0</td>\n",
       "      <td>4.0</td>\n",
       "      <td>2</td>\n",
       "      <td>5.0</td>\n",
       "      <td>5.0</td>\n",
       "      <td>2.0</td>\n",
       "      <td>2</td>\n",
       "      <td>NaN</td>\n",
       "      <td>17</td>\n",
       "    </tr>\n",
       "    <tr>\n",
       "      <th>3</th>\n",
       "      <td>61621</td>\n",
       "      <td>4.0</td>\n",
       "      <td>4.0</td>\n",
       "      <td>6.0</td>\n",
       "      <td>5.0</td>\n",
       "      <td>5.0</td>\n",
       "      <td>4.0</td>\n",
       "      <td>4.0</td>\n",
       "      <td>3.0</td>\n",
       "      <td>5.0</td>\n",
       "      <td>...</td>\n",
       "      <td>4.0</td>\n",
       "      <td>1.0</td>\n",
       "      <td>3.0</td>\n",
       "      <td>3</td>\n",
       "      <td>4.0</td>\n",
       "      <td>3.0</td>\n",
       "      <td>5.0</td>\n",
       "      <td>2</td>\n",
       "      <td>NaN</td>\n",
       "      <td>17</td>\n",
       "    </tr>\n",
       "    <tr>\n",
       "      <th>4</th>\n",
       "      <td>61622</td>\n",
       "      <td>2.0</td>\n",
       "      <td>3.0</td>\n",
       "      <td>3.0</td>\n",
       "      <td>4.0</td>\n",
       "      <td>5.0</td>\n",
       "      <td>4.0</td>\n",
       "      <td>4.0</td>\n",
       "      <td>5.0</td>\n",
       "      <td>3.0</td>\n",
       "      <td>...</td>\n",
       "      <td>4.0</td>\n",
       "      <td>3.0</td>\n",
       "      <td>3.0</td>\n",
       "      <td>3</td>\n",
       "      <td>4.0</td>\n",
       "      <td>3.0</td>\n",
       "      <td>3.0</td>\n",
       "      <td>1</td>\n",
       "      <td>NaN</td>\n",
       "      <td>17</td>\n",
       "    </tr>\n",
       "  </tbody>\n",
       "</table>\n",
       "<p>5 rows × 29 columns</p>\n",
       "</div>"
      ],
      "text/plain": [
       "   Unnamed: 0   A1   A2   A3   A4   A5   C1   C2   C3   C4  ...   N4   N5  \\\n",
       "0       61617  2.0  4.0  3.0  4.0  4.0  2.0  3.0  3.0  4.0  ...  2.0  3.0   \n",
       "1       61618  2.0  4.0  5.0  2.0  5.0  5.0  4.0  4.0  3.0  ...  5.0  5.0   \n",
       "2       61620  5.0  4.0  5.0  4.0  4.0  4.0  5.0  4.0  2.0  ...  2.0  3.0   \n",
       "3       61621  4.0  4.0  6.0  5.0  5.0  4.0  4.0  3.0  5.0  ...  4.0  1.0   \n",
       "4       61622  2.0  3.0  3.0  4.0  5.0  4.0  4.0  5.0  3.0  ...  4.0  3.0   \n",
       "\n",
       "    O1  O2   O3   O4   O5  gender  education  age  \n",
       "0  3.0   6  3.0  4.0  3.0       1        NaN   16  \n",
       "1  4.0   2  4.0  3.0  3.0       2        NaN   18  \n",
       "2  4.0   2  5.0  5.0  2.0       2        NaN   17  \n",
       "3  3.0   3  4.0  3.0  5.0       2        NaN   17  \n",
       "4  3.0   3  4.0  3.0  3.0       1        NaN   17  \n",
       "\n",
       "[5 rows x 29 columns]"
      ]
     },
     "execution_count": 8,
     "metadata": {},
     "output_type": "execute_result"
    }
   ],
   "source": [
    "bfi.head()"
   ]
  },
  {
   "cell_type": "code",
   "execution_count": 9,
   "metadata": {
    "ExecuteTime": {
     "end_time": "2021-09-01T23:13:37.825453Z",
     "start_time": "2021-09-01T23:13:37.811460Z"
    }
   },
   "outputs": [],
   "source": [
    "bfi.drop(columns=['Unnamed: 0','gender', 'education', 'age'],\n",
    "         inplace=True)"
   ]
  },
  {
   "cell_type": "markdown",
   "metadata": {},
   "source": [
    "- A1: Am indifferent to the feelings of others. (q_146)\n",
    "- A2: Inquire about others' well-being. (q_1162)\n",
    "- A3: Know how to comfort others. (q_1206)\n",
    "- A4: Love children. (q_1364)\n",
    "- A5: Make people feel at ease. (q_1419)\n",
    "- C1: Am exacting in my work. (q_124)\n",
    "- C2: Continue until everything is perfect. (q_530)\n",
    "- C3: Do things according to a plan. (q_619)\n",
    "- C4: Do things in a half-way manner. (q_626)\n",
    "- C5: Waste my time. (q_1949)\n",
    "- E1: Don't talk a lot. (q_712)\n",
    "- E2: Find it difficult to approach others. (q_901)\n",
    "- E3: Know how to captivate people. (q_1205)\n",
    "- E4: Make friends easily. (q_1410)\n",
    "- E5: Take charge. (q_1768)\n",
    "- N1: Get angry easily. (q_952)\n",
    "- N2: Get irritated easily. (q_974)\n",
    "- N3: Have frequent mood swings. (q_1099\n",
    "- N4: Often feel blue. (q_1479)\n",
    "- N5: Panic easily. (q_1505)\n",
    "- O1: Am full of ideas. (q_128)\n",
    "- O2: Avoid difficult reading material.(q_316)\n",
    "- O3: Carry the conversation to a higher level. (q_492)\n",
    "- O4: Spend time reflecting on things. (q_1738)\n",
    "- O5: Will not probe deeply into a subject. (q_1964)\n",
    "- gender: Males = 1, Females =2\n",
    "- education: 1 = HS, 2 = finished HS, 3 = some college, 4 = college graduate 5 = graduate degree\n",
    "- age: age in years"
   ]
  },
  {
   "cell_type": "code",
   "execution_count": 11,
   "metadata": {
    "ExecuteTime": {
     "end_time": "2021-09-01T23:15:30.059369Z",
     "start_time": "2021-09-01T23:15:30.047371Z"
    }
   },
   "outputs": [
    {
     "data": {
      "text/plain": [
       "(2800, 25)"
      ]
     },
     "execution_count": 11,
     "metadata": {},
     "output_type": "execute_result"
    }
   ],
   "source": [
    "bfi.shape"
   ]
  },
  {
   "cell_type": "code",
   "execution_count": 10,
   "metadata": {
    "ExecuteTime": {
     "end_time": "2021-09-01T23:15:24.669161Z",
     "start_time": "2021-09-01T23:15:24.652613Z"
    }
   },
   "outputs": [
    {
     "data": {
      "text/plain": [
       "A1    16\n",
       "A2    27\n",
       "A3    26\n",
       "A4    19\n",
       "A5    16\n",
       "C1    21\n",
       "C2    24\n",
       "C3    20\n",
       "C4    26\n",
       "C5    16\n",
       "E1    23\n",
       "E2    16\n",
       "E3    25\n",
       "E4     9\n",
       "E5    21\n",
       "N1    22\n",
       "N2    21\n",
       "N3    11\n",
       "N4    36\n",
       "N5    29\n",
       "O1    22\n",
       "O2     0\n",
       "O3    28\n",
       "O4    14\n",
       "O5    20\n",
       "dtype: int64"
      ]
     },
     "execution_count": 10,
     "metadata": {},
     "output_type": "execute_result"
    }
   ],
   "source": [
    "bfi.isna().sum()"
   ]
  },
  {
   "cell_type": "code",
   "execution_count": 12,
   "metadata": {
    "ExecuteTime": {
     "end_time": "2021-09-01T23:16:21.072812Z",
     "start_time": "2021-09-01T23:16:21.048802Z"
    }
   },
   "outputs": [],
   "source": [
    "bfi.dropna(inplace=True)"
   ]
  },
  {
   "cell_type": "code",
   "execution_count": 13,
   "metadata": {
    "ExecuteTime": {
     "end_time": "2021-09-01T23:16:24.837644Z",
     "start_time": "2021-09-01T23:16:24.821685Z"
    }
   },
   "outputs": [
    {
     "data": {
      "text/plain": [
       "(2436, 25)"
      ]
     },
     "execution_count": 13,
     "metadata": {},
     "output_type": "execute_result"
    }
   ],
   "source": [
    "bfi.shape"
   ]
  },
  {
   "cell_type": "code",
   "execution_count": 14,
   "metadata": {
    "ExecuteTime": {
     "end_time": "2021-09-01T23:16:49.322325Z",
     "start_time": "2021-09-01T23:16:44.817127Z"
    }
   },
   "outputs": [
    {
     "data": {
      "image/png": "[encoded data removed]",
      "text/plain": [
       "<Figure size 1080x720 with 25 Axes>"
      ]
     },
     "metadata": {
      "needs_background": "light"
     },
     "output_type": "display_data"
    }
   ],
   "source": [
    "bfi.hist(figsize=(15, 10));"
   ]
  },
  {
   "cell_type": "markdown",
   "metadata": {},
   "source": [
    "### Teste de Adequação"
   ]
  },
  {
   "cell_type": "markdown",
   "metadata": {},
   "source": [
    "Antes de realizar a análise fatorial, você precisa avaliar a “fatorabilidade” de nosso conjunto de dados. Fatorabilidade significa **\"podemos encontrar os fatores no conjunto de dados?\"**. Existem dois métodos para verificar a fatorabilidade ou adequação da amostragem:\n",
    "\n",
    "- Teste de Bartlett\n",
    "\n",
    "- Teste Kaiser-Meyer-Olkin\n",
    "\n",
    "O teste de esfericidade de Bartlett verifica se as variáveis ​​observadas se intercorrelacionam ou não usando a matriz de correlação observada contra a matriz de identidade. Se o teste for estatisticamente insignificante, você não deve empregar uma análise fatorial."
   ]
  },
  {
   "cell_type": "code",
   "execution_count": null,
   "metadata": {},
   "outputs": [],
   "source": [
    "%pip install factor_analyzer"
   ]
  },
  {
   "cell_type": "code",
   "execution_count": 15,
   "metadata": {
    "ExecuteTime": {
     "end_time": "2021-09-01T23:19:06.203302Z",
     "start_time": "2021-09-01T23:19:06.187342Z"
    }
   },
   "outputs": [],
   "source": [
    "from factor_analyzer.factor_analyzer import calculate_bartlett_sphericity"
   ]
  },
  {
   "cell_type": "code",
   "execution_count": 16,
   "metadata": {
    "ExecuteTime": {
     "end_time": "2021-09-01T23:19:25.566334Z",
     "start_time": "2021-09-01T23:19:25.508693Z"
    }
   },
   "outputs": [],
   "source": [
    "stat, pvalue = calculate_bartlett_sphericity(bfi)"
   ]
  },
  {
   "cell_type": "code",
   "execution_count": 17,
   "metadata": {
    "ExecuteTime": {
     "end_time": "2021-09-01T23:19:27.755899Z",
     "start_time": "2021-09-01T23:19:27.748904Z"
    }
   },
   "outputs": [
    {
     "data": {
      "text/plain": [
       "0.0"
      ]
     },
     "execution_count": 17,
     "metadata": {},
     "output_type": "execute_result"
    }
   ],
   "source": [
    "pvalue"
   ]
  },
  {
   "cell_type": "markdown",
   "metadata": {},
   "source": [
    "- Neste teste de **Bartlett**, o valor p é 0. O teste foi estatisticamente significativo, indicando que a matriz de correlação observada não é uma matriz de identidade.\n",
    "\n",
    "- O teste **Kaiser-Meyer-Olkin (KMO)** mede a adequação dos dados para a análise fatorial. Ele **determina a adequação para cada variável observada e para o modelo completo**. KMO estima a proporção da variância entre todas as variáveis ​​observadas. Os valores de KMO variam entre 0 e 1. O valor de KMO menor que 0,6 é considerado inadequado."
   ]
  },
  {
   "cell_type": "code",
   "execution_count": 18,
   "metadata": {
    "ExecuteTime": {
     "end_time": "2021-09-01T23:20:43.272728Z",
     "start_time": "2021-09-01T23:20:43.263731Z"
    }
   },
   "outputs": [],
   "source": [
    "from factor_analyzer.factor_analyzer import calculate_kmo"
   ]
  },
  {
   "cell_type": "code",
   "execution_count": 19,
   "metadata": {
    "ExecuteTime": {
     "end_time": "2021-09-01T23:21:18.686179Z",
     "start_time": "2021-09-01T23:21:18.608357Z"
    }
   },
   "outputs": [],
   "source": [
    "kmo_per_variable, kmo_total = calculate_kmo(bfi)"
   ]
  },
  {
   "cell_type": "code",
   "execution_count": 20,
   "metadata": {
    "ExecuteTime": {
     "end_time": "2021-09-01T23:21:23.341827Z",
     "start_time": "2021-09-01T23:21:23.324359Z"
    }
   },
   "outputs": [
    {
     "data": {
      "text/plain": [
       "0.848539722194922"
      ]
     },
     "execution_count": 20,
     "metadata": {},
     "output_type": "execute_result"
    }
   ],
   "source": [
    "kmo_total"
   ]
  },
  {
   "cell_type": "markdown",
   "metadata": {},
   "source": [
    "O KMO geral para nossos dados é 0,84, o que é excelente. Este valor indica que você pode prosseguir com sua análise fatorial planejada."
   ]
  },
  {
   "cell_type": "markdown",
   "metadata": {},
   "source": [
    "### Escolhendo o número de fatores"
   ]
  },
  {
   "cell_type": "markdown",
   "metadata": {},
   "source": [
    "Para escolher o número de fatores, você pode usar o critério de Kaiser e o gráfico de scree. Ambos são baseados em auto valores (eigenvalues)."
   ]
  },
  {
   "cell_type": "code",
   "execution_count": 21,
   "metadata": {
    "ExecuteTime": {
     "end_time": "2021-09-01T23:21:51.461089Z",
     "start_time": "2021-09-01T23:21:51.444695Z"
    }
   },
   "outputs": [],
   "source": [
    "from factor_analyzer import FactorAnalyzer"
   ]
  },
  {
   "cell_type": "code",
   "execution_count": 22,
   "metadata": {
    "ExecuteTime": {
     "end_time": "2021-09-01T23:22:11.529201Z",
     "start_time": "2021-09-01T23:22:11.513554Z"
    }
   },
   "outputs": [],
   "source": [
    "fa = FactorAnalyzer(rotation=None)"
   ]
  },
  {
   "cell_type": "code",
   "execution_count": 23,
   "metadata": {
    "ExecuteTime": {
     "end_time": "2021-09-01T23:22:26.927480Z",
     "start_time": "2021-09-01T23:22:26.643579Z"
    }
   },
   "outputs": [
    {
     "data": {
      "text/plain": [
       "FactorAnalyzer(rotation=None, rotation_kwargs={})"
      ]
     },
     "execution_count": 23,
     "metadata": {},
     "output_type": "execute_result"
    }
   ],
   "source": [
    "fa.fit(bfi)"
   ]
  },
  {
   "cell_type": "code",
   "execution_count": 24,
   "metadata": {
    "ExecuteTime": {
     "end_time": "2021-09-01T23:23:05.940508Z",
     "start_time": "2021-09-01T23:23:05.924511Z"
    }
   },
   "outputs": [
    {
     "data": {
      "text/plain": [
       "array([5.13431118, 2.75188667, 2.14270195, 1.85232761, 1.54816285,\n",
       "       1.07358247, 0.83953893, 0.79920618, 0.71898919, 0.68808879,\n",
       "       0.67637336, 0.65179984, 0.62325295, 0.59656284, 0.56309083,\n",
       "       0.54330533, 0.51451752, 0.49450315, 0.48263952, 0.448921  ,\n",
       "       0.42336611, 0.40067145, 0.38780448, 0.38185679, 0.26253902])"
      ]
     },
     "execution_count": 24,
     "metadata": {},
     "output_type": "execute_result"
    }
   ],
   "source": [
    "ev, v = fa.get_eigenvalues()\n",
    "ev"
   ]
  },
  {
   "cell_type": "markdown",
   "metadata": {},
   "source": [
    "Aqui, você pode ver apenas que os valores próprios de 6 fatores são maiores que um. Isso significa que precisamos escolher apenas 6 fatores (ou variáveis ​​não observadas). (método de kaiser's rule)\n",
    "\n",
    "Podemos ver esses autovalores num gráfico de scree. Nas estatísticas multivariadas, um gráfico de scree é um gráfico de linha dos autovalores de fatores ou componentes principais em uma análise."
   ]
  },
  {
   "cell_type": "code",
   "execution_count": 26,
   "metadata": {
    "ExecuteTime": {
     "end_time": "2021-09-01T23:26:09.279110Z",
     "start_time": "2021-09-01T23:26:08.999235Z"
    }
   },
   "outputs": [
    {
     "data": {
      "image/png": "[encoded data removed]",
      "text/plain": [
       "<Figure size 432x288 with 1 Axes>"
      ]
     },
     "metadata": {
      "needs_background": "light"
     },
     "output_type": "display_data"
    }
   ],
   "source": [
    "plt.scatter(range(1,bfi.shape[1]+1),ev)\n",
    "plt.plot(range(1,bfi.shape[1]+1),ev)\n",
    "plt.title('Scree Plot')\n",
    "plt.xlabel('Factors')\n",
    "plt.ylabel('Eigenvalue')\n",
    "plt.grid()\n",
    "plt.show()"
   ]
  },
  {
   "cell_type": "code",
   "execution_count": 27,
   "metadata": {
    "ExecuteTime": {
     "end_time": "2021-09-01T23:29:54.718336Z",
     "start_time": "2021-09-01T23:29:54.695640Z"
    }
   },
   "outputs": [
    {
     "data": {
      "text/plain": [
       "(2436, 25)"
      ]
     },
     "execution_count": 27,
     "metadata": {},
     "output_type": "execute_result"
    }
   ],
   "source": [
    "bfi.shape"
   ]
  },
  {
   "cell_type": "markdown",
   "metadata": {},
   "source": [
    "### Analisando as cargas fatoriais\n",
    "\n",
    "Com a análise fatorial, o pesquisador pode primeiro identificar as\n",
    "dimensões separadas da estrutura (os fatores) e então determinar o grau em que cada variável é explicada por cada fator. Esse grau permite associar cada fator às variáveis que ele melhor explica, permitindo com isso uma análise semântica dentro do contexto informacional da base original.\n"
   ]
  },
  {
   "cell_type": "code",
   "execution_count": 28,
   "metadata": {
    "ExecuteTime": {
     "end_time": "2021-09-01T23:41:15.497124Z",
     "start_time": "2021-09-01T23:41:15.485506Z"
    }
   },
   "outputs": [],
   "source": [
    "fa = FactorAnalyzer(n_factors=6, rotation='varimax')"
   ]
  },
  {
   "cell_type": "code",
   "execution_count": 29,
   "metadata": {
    "ExecuteTime": {
     "end_time": "2021-09-01T23:41:19.265479Z",
     "start_time": "2021-09-01T23:41:19.120730Z"
    }
   },
   "outputs": [
    {
     "data": {
      "text/plain": [
       "FactorAnalyzer(n_factors=6, rotation='varimax', rotation_kwargs={})"
      ]
     },
     "execution_count": 29,
     "metadata": {},
     "output_type": "execute_result"
    }
   ],
   "source": [
    "fa.fit(bfi)"
   ]
  },
  {
   "cell_type": "code",
   "execution_count": 33,
   "metadata": {
    "ExecuteTime": {
     "end_time": "2021-09-01T23:43:01.743765Z",
     "start_time": "2021-09-01T23:43:01.708765Z"
    }
   },
   "outputs": [
    {
     "data": {
      "text/html": [
       "<div>\n",
       "<style scoped>\n",
       "    .dataframe tbody tr th:only-of-type {\n",
       "        vertical-align: middle;\n",
       "    }\n",
       "\n",
       "    .dataframe tbody tr th {\n",
       "        vertical-align: top;\n",
       "    }\n",
       "\n",
       "    .dataframe thead th {\n",
       "        text-align: right;\n",
       "    }\n",
       "</style>\n",
       "<table border=\"1\" class=\"dataframe\">\n",
       "  <thead>\n",
       "    <tr style=\"text-align: right;\">\n",
       "      <th></th>\n",
       "      <th>Fator 1</th>\n",
       "      <th>Fator 2</th>\n",
       "      <th>Fator 3</th>\n",
       "      <th>Fator 4</th>\n",
       "      <th>Fator 5</th>\n",
       "      <th>Fator 6</th>\n",
       "    </tr>\n",
       "  </thead>\n",
       "  <tbody>\n",
       "    <tr>\n",
       "      <th>A1</th>\n",
       "      <td>0.095220</td>\n",
       "      <td>0.040783</td>\n",
       "      <td>0.048734</td>\n",
       "      <td>-0.530987</td>\n",
       "      <td>-0.113057</td>\n",
       "      <td>0.161216</td>\n",
       "    </tr>\n",
       "    <tr>\n",
       "      <th>A2</th>\n",
       "      <td>0.033131</td>\n",
       "      <td>0.235538</td>\n",
       "      <td>0.133714</td>\n",
       "      <td>0.661141</td>\n",
       "      <td>0.063734</td>\n",
       "      <td>-0.006244</td>\n",
       "    </tr>\n",
       "    <tr>\n",
       "      <th>A3</th>\n",
       "      <td>-0.009621</td>\n",
       "      <td>0.343008</td>\n",
       "      <td>0.121353</td>\n",
       "      <td>0.605933</td>\n",
       "      <td>0.033990</td>\n",
       "      <td>0.160106</td>\n",
       "    </tr>\n",
       "    <tr>\n",
       "      <th>A4</th>\n",
       "      <td>-0.081518</td>\n",
       "      <td>0.219717</td>\n",
       "      <td>0.235140</td>\n",
       "      <td>0.404594</td>\n",
       "      <td>-0.125338</td>\n",
       "      <td>0.086356</td>\n",
       "    </tr>\n",
       "    <tr>\n",
       "      <th>A5</th>\n",
       "      <td>-0.149616</td>\n",
       "      <td>0.414458</td>\n",
       "      <td>0.106382</td>\n",
       "      <td>0.469698</td>\n",
       "      <td>0.030977</td>\n",
       "      <td>0.236519</td>\n",
       "    </tr>\n",
       "    <tr>\n",
       "      <th>C1</th>\n",
       "      <td>-0.004358</td>\n",
       "      <td>0.077248</td>\n",
       "      <td>0.554582</td>\n",
       "      <td>0.007511</td>\n",
       "      <td>0.190124</td>\n",
       "      <td>0.095035</td>\n",
       "    </tr>\n",
       "    <tr>\n",
       "      <th>C2</th>\n",
       "      <td>0.068330</td>\n",
       "      <td>0.038370</td>\n",
       "      <td>0.674545</td>\n",
       "      <td>0.057055</td>\n",
       "      <td>0.087593</td>\n",
       "      <td>0.152775</td>\n",
       "    </tr>\n",
       "    <tr>\n",
       "      <th>C3</th>\n",
       "      <td>-0.039994</td>\n",
       "      <td>0.031867</td>\n",
       "      <td>0.551164</td>\n",
       "      <td>0.101282</td>\n",
       "      <td>-0.011338</td>\n",
       "      <td>0.008996</td>\n",
       "    </tr>\n",
       "    <tr>\n",
       "      <th>C4</th>\n",
       "      <td>0.216283</td>\n",
       "      <td>-0.066241</td>\n",
       "      <td>-0.638475</td>\n",
       "      <td>-0.102617</td>\n",
       "      <td>-0.143846</td>\n",
       "      <td>0.318359</td>\n",
       "    </tr>\n",
       "    <tr>\n",
       "      <th>C5</th>\n",
       "      <td>0.284187</td>\n",
       "      <td>-0.180812</td>\n",
       "      <td>-0.544838</td>\n",
       "      <td>-0.059955</td>\n",
       "      <td>0.025837</td>\n",
       "      <td>0.132423</td>\n",
       "    </tr>\n",
       "    <tr>\n",
       "      <th>E1</th>\n",
       "      <td>0.022280</td>\n",
       "      <td>-0.590451</td>\n",
       "      <td>0.053915</td>\n",
       "      <td>-0.130851</td>\n",
       "      <td>-0.071205</td>\n",
       "      <td>0.156583</td>\n",
       "    </tr>\n",
       "    <tr>\n",
       "      <th>E2</th>\n",
       "      <td>0.233624</td>\n",
       "      <td>-0.684578</td>\n",
       "      <td>-0.088497</td>\n",
       "      <td>-0.116716</td>\n",
       "      <td>-0.045561</td>\n",
       "      <td>0.115065</td>\n",
       "    </tr>\n",
       "    <tr>\n",
       "      <th>E3</th>\n",
       "      <td>-0.000895</td>\n",
       "      <td>0.556774</td>\n",
       "      <td>0.103390</td>\n",
       "      <td>0.179396</td>\n",
       "      <td>0.241180</td>\n",
       "      <td>0.267291</td>\n",
       "    </tr>\n",
       "    <tr>\n",
       "      <th>E4</th>\n",
       "      <td>-0.136788</td>\n",
       "      <td>0.658395</td>\n",
       "      <td>0.113798</td>\n",
       "      <td>0.241143</td>\n",
       "      <td>-0.107808</td>\n",
       "      <td>0.158513</td>\n",
       "    </tr>\n",
       "    <tr>\n",
       "      <th>E5</th>\n",
       "      <td>0.034490</td>\n",
       "      <td>0.507535</td>\n",
       "      <td>0.309813</td>\n",
       "      <td>0.078804</td>\n",
       "      <td>0.200821</td>\n",
       "      <td>0.008747</td>\n",
       "    </tr>\n",
       "    <tr>\n",
       "      <th>N1</th>\n",
       "      <td>0.805806</td>\n",
       "      <td>0.068011</td>\n",
       "      <td>-0.051264</td>\n",
       "      <td>-0.174849</td>\n",
       "      <td>-0.074977</td>\n",
       "      <td>-0.096266</td>\n",
       "    </tr>\n",
       "    <tr>\n",
       "      <th>N2</th>\n",
       "      <td>0.789832</td>\n",
       "      <td>0.022958</td>\n",
       "      <td>-0.037477</td>\n",
       "      <td>-0.141134</td>\n",
       "      <td>0.006726</td>\n",
       "      <td>-0.139823</td>\n",
       "    </tr>\n",
       "    <tr>\n",
       "      <th>N3</th>\n",
       "      <td>0.725081</td>\n",
       "      <td>-0.065687</td>\n",
       "      <td>-0.059039</td>\n",
       "      <td>-0.019184</td>\n",
       "      <td>-0.010664</td>\n",
       "      <td>0.062495</td>\n",
       "    </tr>\n",
       "    <tr>\n",
       "      <th>N4</th>\n",
       "      <td>0.578319</td>\n",
       "      <td>-0.345072</td>\n",
       "      <td>-0.162174</td>\n",
       "      <td>0.000403</td>\n",
       "      <td>0.062916</td>\n",
       "      <td>0.147551</td>\n",
       "    </tr>\n",
       "    <tr>\n",
       "      <th>N5</th>\n",
       "      <td>0.523097</td>\n",
       "      <td>-0.161675</td>\n",
       "      <td>-0.025305</td>\n",
       "      <td>0.090125</td>\n",
       "      <td>-0.161892</td>\n",
       "      <td>0.120049</td>\n",
       "    </tr>\n",
       "    <tr>\n",
       "      <th>O1</th>\n",
       "      <td>-0.020004</td>\n",
       "      <td>0.225339</td>\n",
       "      <td>0.133201</td>\n",
       "      <td>0.005178</td>\n",
       "      <td>0.479477</td>\n",
       "      <td>0.218690</td>\n",
       "    </tr>\n",
       "    <tr>\n",
       "      <th>O2</th>\n",
       "      <td>0.156230</td>\n",
       "      <td>-0.001982</td>\n",
       "      <td>-0.086047</td>\n",
       "      <td>0.043989</td>\n",
       "      <td>-0.496640</td>\n",
       "      <td>0.134693</td>\n",
       "    </tr>\n",
       "    <tr>\n",
       "      <th>O3</th>\n",
       "      <td>0.011851</td>\n",
       "      <td>0.325954</td>\n",
       "      <td>0.093880</td>\n",
       "      <td>0.076642</td>\n",
       "      <td>0.566128</td>\n",
       "      <td>0.210777</td>\n",
       "    </tr>\n",
       "    <tr>\n",
       "      <th>O4</th>\n",
       "      <td>0.207281</td>\n",
       "      <td>-0.177746</td>\n",
       "      <td>-0.005671</td>\n",
       "      <td>0.133656</td>\n",
       "      <td>0.349227</td>\n",
       "      <td>0.178068</td>\n",
       "    </tr>\n",
       "    <tr>\n",
       "      <th>O5</th>\n",
       "      <td>0.063234</td>\n",
       "      <td>-0.014221</td>\n",
       "      <td>-0.047059</td>\n",
       "      <td>-0.057561</td>\n",
       "      <td>-0.576743</td>\n",
       "      <td>0.135936</td>\n",
       "    </tr>\n",
       "  </tbody>\n",
       "</table>\n",
       "</div>"
      ],
      "text/plain": [
       "     Fator 1   Fator 2   Fator 3   Fator 4   Fator 5   Fator 6\n",
       "A1  0.095220  0.040783  0.048734 -0.530987 -0.113057  0.161216\n",
       "A2  0.033131  0.235538  0.133714  0.661141  0.063734 -0.006244\n",
       "A3 -0.009621  0.343008  0.121353  0.605933  0.033990  0.160106\n",
       "A4 -0.081518  0.219717  0.235140  0.404594 -0.125338  0.086356\n",
       "A5 -0.149616  0.414458  0.106382  0.469698  0.030977  0.236519\n",
       "C1 -0.004358  0.077248  0.554582  0.007511  0.190124  0.095035\n",
       "C2  0.068330  0.038370  0.674545  0.057055  0.087593  0.152775\n",
       "C3 -0.039994  0.031867  0.551164  0.101282 -0.011338  0.008996\n",
       "C4  0.216283 -0.066241 -0.638475 -0.102617 -0.143846  0.318359\n",
       "C5  0.284187 -0.180812 -0.544838 -0.059955  0.025837  0.132423\n",
       "E1  0.022280 -0.590451  0.053915 -0.130851 -0.071205  0.156583\n",
       "E2  0.233624 -0.684578 -0.088497 -0.116716 -0.045561  0.115065\n",
       "E3 -0.000895  0.556774  0.103390  0.179396  0.241180  0.267291\n",
       "E4 -0.136788  0.658395  0.113798  0.241143 -0.107808  0.158513\n",
       "E5  0.034490  0.507535  0.309813  0.078804  0.200821  0.008747\n",
       "N1  0.805806  0.068011 -0.051264 -0.174849 -0.074977 -0.096266\n",
       "N2  0.789832  0.022958 -0.037477 -0.141134  0.006726 -0.139823\n",
       "N3  0.725081 -0.065687 -0.059039 -0.019184 -0.010664  0.062495\n",
       "N4  0.578319 -0.345072 -0.162174  0.000403  0.062916  0.147551\n",
       "N5  0.523097 -0.161675 -0.025305  0.090125 -0.161892  0.120049\n",
       "O1 -0.020004  0.225339  0.133201  0.005178  0.479477  0.218690\n",
       "O2  0.156230 -0.001982 -0.086047  0.043989 -0.496640  0.134693\n",
       "O3  0.011851  0.325954  0.093880  0.076642  0.566128  0.210777\n",
       "O4  0.207281 -0.177746 -0.005671  0.133656  0.349227  0.178068\n",
       "O5  0.063234 -0.014221 -0.047059 -0.057561 -0.576743  0.135936"
      ]
     },
     "execution_count": 33,
     "metadata": {},
     "output_type": "execute_result"
    }
   ],
   "source": [
    "fat = pd.DataFrame(fa.loadings_,\n",
    "                   index=bfi.columns,\n",
    "                   columns=['Fator 1','Fator 2',\n",
    "                            'Fator 3','Fator 4',\n",
    "                            'Fator 5','Fator 6'])\n",
    "\n",
    "fat"
   ]
  },
  {
   "cell_type": "code",
   "execution_count": 35,
   "metadata": {
    "ExecuteTime": {
     "end_time": "2021-09-01T23:44:08.473813Z",
     "start_time": "2021-09-01T23:44:08.439906Z"
    }
   },
   "outputs": [
    {
     "data": {
      "text/html": [
       "<div>\n",
       "<style scoped>\n",
       "    .dataframe tbody tr th:only-of-type {\n",
       "        vertical-align: middle;\n",
       "    }\n",
       "\n",
       "    .dataframe tbody tr th {\n",
       "        vertical-align: top;\n",
       "    }\n",
       "\n",
       "    .dataframe thead th {\n",
       "        text-align: right;\n",
       "    }\n",
       "</style>\n",
       "<table border=\"1\" class=\"dataframe\">\n",
       "  <thead>\n",
       "    <tr style=\"text-align: right;\">\n",
       "      <th></th>\n",
       "      <th>Fator 1</th>\n",
       "      <th>Fator 2</th>\n",
       "      <th>Fator 3</th>\n",
       "      <th>Fator 4</th>\n",
       "      <th>Fator 5</th>\n",
       "      <th>Fator 6</th>\n",
       "    </tr>\n",
       "  </thead>\n",
       "  <tbody>\n",
       "    <tr>\n",
       "      <th>A5</th>\n",
       "      <td>-0.149616</td>\n",
       "      <td>0.414458</td>\n",
       "      <td>0.106382</td>\n",
       "      <td>0.469698</td>\n",
       "      <td>0.030977</td>\n",
       "      <td>0.236519</td>\n",
       "    </tr>\n",
       "    <tr>\n",
       "      <th>E4</th>\n",
       "      <td>-0.136788</td>\n",
       "      <td>0.658395</td>\n",
       "      <td>0.113798</td>\n",
       "      <td>0.241143</td>\n",
       "      <td>-0.107808</td>\n",
       "      <td>0.158513</td>\n",
       "    </tr>\n",
       "    <tr>\n",
       "      <th>A4</th>\n",
       "      <td>-0.081518</td>\n",
       "      <td>0.219717</td>\n",
       "      <td>0.235140</td>\n",
       "      <td>0.404594</td>\n",
       "      <td>-0.125338</td>\n",
       "      <td>0.086356</td>\n",
       "    </tr>\n",
       "    <tr>\n",
       "      <th>C3</th>\n",
       "      <td>-0.039994</td>\n",
       "      <td>0.031867</td>\n",
       "      <td>0.551164</td>\n",
       "      <td>0.101282</td>\n",
       "      <td>-0.011338</td>\n",
       "      <td>0.008996</td>\n",
       "    </tr>\n",
       "    <tr>\n",
       "      <th>O1</th>\n",
       "      <td>-0.020004</td>\n",
       "      <td>0.225339</td>\n",
       "      <td>0.133201</td>\n",
       "      <td>0.005178</td>\n",
       "      <td>0.479477</td>\n",
       "      <td>0.218690</td>\n",
       "    </tr>\n",
       "    <tr>\n",
       "      <th>A3</th>\n",
       "      <td>-0.009621</td>\n",
       "      <td>0.343008</td>\n",
       "      <td>0.121353</td>\n",
       "      <td>0.605933</td>\n",
       "      <td>0.033990</td>\n",
       "      <td>0.160106</td>\n",
       "    </tr>\n",
       "    <tr>\n",
       "      <th>C1</th>\n",
       "      <td>-0.004358</td>\n",
       "      <td>0.077248</td>\n",
       "      <td>0.554582</td>\n",
       "      <td>0.007511</td>\n",
       "      <td>0.190124</td>\n",
       "      <td>0.095035</td>\n",
       "    </tr>\n",
       "    <tr>\n",
       "      <th>E3</th>\n",
       "      <td>-0.000895</td>\n",
       "      <td>0.556774</td>\n",
       "      <td>0.103390</td>\n",
       "      <td>0.179396</td>\n",
       "      <td>0.241180</td>\n",
       "      <td>0.267291</td>\n",
       "    </tr>\n",
       "    <tr>\n",
       "      <th>O3</th>\n",
       "      <td>0.011851</td>\n",
       "      <td>0.325954</td>\n",
       "      <td>0.093880</td>\n",
       "      <td>0.076642</td>\n",
       "      <td>0.566128</td>\n",
       "      <td>0.210777</td>\n",
       "    </tr>\n",
       "    <tr>\n",
       "      <th>E1</th>\n",
       "      <td>0.022280</td>\n",
       "      <td>-0.590451</td>\n",
       "      <td>0.053915</td>\n",
       "      <td>-0.130851</td>\n",
       "      <td>-0.071205</td>\n",
       "      <td>0.156583</td>\n",
       "    </tr>\n",
       "    <tr>\n",
       "      <th>A2</th>\n",
       "      <td>0.033131</td>\n",
       "      <td>0.235538</td>\n",
       "      <td>0.133714</td>\n",
       "      <td>0.661141</td>\n",
       "      <td>0.063734</td>\n",
       "      <td>-0.006244</td>\n",
       "    </tr>\n",
       "    <tr>\n",
       "      <th>E5</th>\n",
       "      <td>0.034490</td>\n",
       "      <td>0.507535</td>\n",
       "      <td>0.309813</td>\n",
       "      <td>0.078804</td>\n",
       "      <td>0.200821</td>\n",
       "      <td>0.008747</td>\n",
       "    </tr>\n",
       "    <tr>\n",
       "      <th>O5</th>\n",
       "      <td>0.063234</td>\n",
       "      <td>-0.014221</td>\n",
       "      <td>-0.047059</td>\n",
       "      <td>-0.057561</td>\n",
       "      <td>-0.576743</td>\n",
       "      <td>0.135936</td>\n",
       "    </tr>\n",
       "    <tr>\n",
       "      <th>C2</th>\n",
       "      <td>0.068330</td>\n",
       "      <td>0.038370</td>\n",
       "      <td>0.674545</td>\n",
       "      <td>0.057055</td>\n",
       "      <td>0.087593</td>\n",
       "      <td>0.152775</td>\n",
       "    </tr>\n",
       "    <tr>\n",
       "      <th>A1</th>\n",
       "      <td>0.095220</td>\n",
       "      <td>0.040783</td>\n",
       "      <td>0.048734</td>\n",
       "      <td>-0.530987</td>\n",
       "      <td>-0.113057</td>\n",
       "      <td>0.161216</td>\n",
       "    </tr>\n",
       "    <tr>\n",
       "      <th>O2</th>\n",
       "      <td>0.156230</td>\n",
       "      <td>-0.001982</td>\n",
       "      <td>-0.086047</td>\n",
       "      <td>0.043989</td>\n",
       "      <td>-0.496640</td>\n",
       "      <td>0.134693</td>\n",
       "    </tr>\n",
       "    <tr>\n",
       "      <th>O4</th>\n",
       "      <td>0.207281</td>\n",
       "      <td>-0.177746</td>\n",
       "      <td>-0.005671</td>\n",
       "      <td>0.133656</td>\n",
       "      <td>0.349227</td>\n",
       "      <td>0.178068</td>\n",
       "    </tr>\n",
       "    <tr>\n",
       "      <th>C4</th>\n",
       "      <td>0.216283</td>\n",
       "      <td>-0.066241</td>\n",
       "      <td>-0.638475</td>\n",
       "      <td>-0.102617</td>\n",
       "      <td>-0.143846</td>\n",
       "      <td>0.318359</td>\n",
       "    </tr>\n",
       "    <tr>\n",
       "      <th>E2</th>\n",
       "      <td>0.233624</td>\n",
       "      <td>-0.684578</td>\n",
       "      <td>-0.088497</td>\n",
       "      <td>-0.116716</td>\n",
       "      <td>-0.045561</td>\n",
       "      <td>0.115065</td>\n",
       "    </tr>\n",
       "    <tr>\n",
       "      <th>C5</th>\n",
       "      <td>0.284187</td>\n",
       "      <td>-0.180812</td>\n",
       "      <td>-0.544838</td>\n",
       "      <td>-0.059955</td>\n",
       "      <td>0.025837</td>\n",
       "      <td>0.132423</td>\n",
       "    </tr>\n",
       "    <tr>\n",
       "      <th>N5</th>\n",
       "      <td>0.523097</td>\n",
       "      <td>-0.161675</td>\n",
       "      <td>-0.025305</td>\n",
       "      <td>0.090125</td>\n",
       "      <td>-0.161892</td>\n",
       "      <td>0.120049</td>\n",
       "    </tr>\n",
       "    <tr>\n",
       "      <th>N4</th>\n",
       "      <td>0.578319</td>\n",
       "      <td>-0.345072</td>\n",
       "      <td>-0.162174</td>\n",
       "      <td>0.000403</td>\n",
       "      <td>0.062916</td>\n",
       "      <td>0.147551</td>\n",
       "    </tr>\n",
       "    <tr>\n",
       "      <th>N3</th>\n",
       "      <td>0.725081</td>\n",
       "      <td>-0.065687</td>\n",
       "      <td>-0.059039</td>\n",
       "      <td>-0.019184</td>\n",
       "      <td>-0.010664</td>\n",
       "      <td>0.062495</td>\n",
       "    </tr>\n",
       "    <tr>\n",
       "      <th>N2</th>\n",
       "      <td>0.789832</td>\n",
       "      <td>0.022958</td>\n",
       "      <td>-0.037477</td>\n",
       "      <td>-0.141134</td>\n",
       "      <td>0.006726</td>\n",
       "      <td>-0.139823</td>\n",
       "    </tr>\n",
       "    <tr>\n",
       "      <th>N1</th>\n",
       "      <td>0.805806</td>\n",
       "      <td>0.068011</td>\n",
       "      <td>-0.051264</td>\n",
       "      <td>-0.174849</td>\n",
       "      <td>-0.074977</td>\n",
       "      <td>-0.096266</td>\n",
       "    </tr>\n",
       "  </tbody>\n",
       "</table>\n",
       "</div>"
      ],
      "text/plain": [
       "     Fator 1   Fator 2   Fator 3   Fator 4   Fator 5   Fator 6\n",
       "A5 -0.149616  0.414458  0.106382  0.469698  0.030977  0.236519\n",
       "E4 -0.136788  0.658395  0.113798  0.241143 -0.107808  0.158513\n",
       "A4 -0.081518  0.219717  0.235140  0.404594 -0.125338  0.086356\n",
       "C3 -0.039994  0.031867  0.551164  0.101282 -0.011338  0.008996\n",
       "O1 -0.020004  0.225339  0.133201  0.005178  0.479477  0.218690\n",
       "A3 -0.009621  0.343008  0.121353  0.605933  0.033990  0.160106\n",
       "C1 -0.004358  0.077248  0.554582  0.007511  0.190124  0.095035\n",
       "E3 -0.000895  0.556774  0.103390  0.179396  0.241180  0.267291\n",
       "O3  0.011851  0.325954  0.093880  0.076642  0.566128  0.210777\n",
       "E1  0.022280 -0.590451  0.053915 -0.130851 -0.071205  0.156583\n",
       "A2  0.033131  0.235538  0.133714  0.661141  0.063734 -0.006244\n",
       "E5  0.034490  0.507535  0.309813  0.078804  0.200821  0.008747\n",
       "O5  0.063234 -0.014221 -0.047059 -0.057561 -0.576743  0.135936\n",
       "C2  0.068330  0.038370  0.674545  0.057055  0.087593  0.152775\n",
       "A1  0.095220  0.040783  0.048734 -0.530987 -0.113057  0.161216\n",
       "O2  0.156230 -0.001982 -0.086047  0.043989 -0.496640  0.134693\n",
       "O4  0.207281 -0.177746 -0.005671  0.133656  0.349227  0.178068\n",
       "C4  0.216283 -0.066241 -0.638475 -0.102617 -0.143846  0.318359\n",
       "E2  0.233624 -0.684578 -0.088497 -0.116716 -0.045561  0.115065\n",
       "C5  0.284187 -0.180812 -0.544838 -0.059955  0.025837  0.132423\n",
       "N5  0.523097 -0.161675 -0.025305  0.090125 -0.161892  0.120049\n",
       "N4  0.578319 -0.345072 -0.162174  0.000403  0.062916  0.147551\n",
       "N3  0.725081 -0.065687 -0.059039 -0.019184 -0.010664  0.062495\n",
       "N2  0.789832  0.022958 -0.037477 -0.141134  0.006726 -0.139823\n",
       "N1  0.805806  0.068011 -0.051264 -0.174849 -0.074977 -0.096266"
      ]
     },
     "execution_count": 35,
     "metadata": {},
     "output_type": "execute_result"
    }
   ],
   "source": [
    "fat.sort_values('Fator 1')"
   ]
  },
  {
   "cell_type": "markdown",
   "metadata": {},
   "source": [
    "- O fator 1 tem altas cargas fatoriais para N1, N2, N3, N4 e N5 (Neuroticismo).\n",
    "- O fator 2 tem altas cargas fatoriais para E1, E2, E3, E4 e E5 (Extroversão).\n",
    "- O fator 3 tem altas cargas fatoriais para C1, C2, C3, C4 e C5 (Consciência).\n",
    "- O fator 4 tem altas cargas fatoriais para O1, O2, O3, O4 e O5 (Abertura).\n",
    "- O fator 5 tem altas cargas fatoriais para A1, A2, A3, A4 e A5 (Amabilidade).\n",
    "- O fator 6 não tem nenhum carga fatorial significativa para qualquer variável e não é facilmente interpretável. Sendo assim é melhor considerarmos apenas cinco fatores."
   ]
  },
  {
   "cell_type": "code",
   "execution_count": 36,
   "metadata": {
    "ExecuteTime": {
     "end_time": "2021-09-01T23:51:12.921522Z",
     "start_time": "2021-09-01T23:51:12.810668Z"
    }
   },
   "outputs": [
    {
     "data": {
      "text/plain": [
       "FactorAnalyzer(n_factors=5, rotation='varimax', rotation_kwargs={})"
      ]
     },
     "execution_count": 36,
     "metadata": {},
     "output_type": "execute_result"
    }
   ],
   "source": [
    "fa = FactorAnalyzer(n_factors=5, rotation='varimax')\n",
    "fa.fit(bfi)"
   ]
  },
  {
   "cell_type": "code",
   "execution_count": 37,
   "metadata": {
    "ExecuteTime": {
     "end_time": "2021-09-01T23:51:30.332308Z",
     "start_time": "2021-09-01T23:51:30.288835Z"
    },
    "scrolled": true
   },
   "outputs": [
    {
     "data": {
      "text/html": [
       "<div>\n",
       "<style scoped>\n",
       "    .dataframe tbody tr th:only-of-type {\n",
       "        vertical-align: middle;\n",
       "    }\n",
       "\n",
       "    .dataframe tbody tr th {\n",
       "        vertical-align: top;\n",
       "    }\n",
       "\n",
       "    .dataframe thead th {\n",
       "        text-align: right;\n",
       "    }\n",
       "</style>\n",
       "<table border=\"1\" class=\"dataframe\">\n",
       "  <thead>\n",
       "    <tr style=\"text-align: right;\">\n",
       "      <th></th>\n",
       "      <th>Fator 1</th>\n",
       "      <th>Fator 2</th>\n",
       "      <th>Fator 3</th>\n",
       "      <th>Fator 4</th>\n",
       "      <th>Fator 5</th>\n",
       "    </tr>\n",
       "  </thead>\n",
       "  <tbody>\n",
       "    <tr>\n",
       "      <th>A1</th>\n",
       "      <td>0.111126</td>\n",
       "      <td>0.040465</td>\n",
       "      <td>0.022798</td>\n",
       "      <td>-0.428166</td>\n",
       "      <td>-0.077931</td>\n",
       "    </tr>\n",
       "    <tr>\n",
       "      <th>A2</th>\n",
       "      <td>0.029588</td>\n",
       "      <td>0.213716</td>\n",
       "      <td>0.139037</td>\n",
       "      <td>0.626946</td>\n",
       "      <td>0.062139</td>\n",
       "    </tr>\n",
       "    <tr>\n",
       "      <th>A3</th>\n",
       "      <td>0.009357</td>\n",
       "      <td>0.317848</td>\n",
       "      <td>0.109331</td>\n",
       "      <td>0.650743</td>\n",
       "      <td>0.056196</td>\n",
       "    </tr>\n",
       "    <tr>\n",
       "      <th>A4</th>\n",
       "      <td>-0.066476</td>\n",
       "      <td>0.204566</td>\n",
       "      <td>0.230584</td>\n",
       "      <td>0.435624</td>\n",
       "      <td>-0.112700</td>\n",
       "    </tr>\n",
       "    <tr>\n",
       "      <th>A5</th>\n",
       "      <td>-0.122113</td>\n",
       "      <td>0.393034</td>\n",
       "      <td>0.087869</td>\n",
       "      <td>0.537087</td>\n",
       "      <td>0.066708</td>\n",
       "    </tr>\n",
       "    <tr>\n",
       "      <th>C1</th>\n",
       "      <td>0.010416</td>\n",
       "      <td>0.070184</td>\n",
       "      <td>0.545824</td>\n",
       "      <td>0.038878</td>\n",
       "      <td>0.209584</td>\n",
       "    </tr>\n",
       "    <tr>\n",
       "      <th>C2</th>\n",
       "      <td>0.089574</td>\n",
       "      <td>0.033270</td>\n",
       "      <td>0.648731</td>\n",
       "      <td>0.102782</td>\n",
       "      <td>0.115434</td>\n",
       "    </tr>\n",
       "    <tr>\n",
       "      <th>C3</th>\n",
       "      <td>-0.030855</td>\n",
       "      <td>0.023907</td>\n",
       "      <td>0.557036</td>\n",
       "      <td>0.111578</td>\n",
       "      <td>-0.005183</td>\n",
       "    </tr>\n",
       "    <tr>\n",
       "      <th>C4</th>\n",
       "      <td>0.240410</td>\n",
       "      <td>-0.064984</td>\n",
       "      <td>-0.633806</td>\n",
       "      <td>-0.037498</td>\n",
       "      <td>-0.107535</td>\n",
       "    </tr>\n",
       "    <tr>\n",
       "      <th>C5</th>\n",
       "      <td>0.290318</td>\n",
       "      <td>-0.176395</td>\n",
       "      <td>-0.562467</td>\n",
       "      <td>-0.047525</td>\n",
       "      <td>0.036822</td>\n",
       "    </tr>\n",
       "    <tr>\n",
       "      <th>E1</th>\n",
       "      <td>0.042819</td>\n",
       "      <td>-0.574835</td>\n",
       "      <td>0.033144</td>\n",
       "      <td>-0.104813</td>\n",
       "      <td>-0.058795</td>\n",
       "    </tr>\n",
       "    <tr>\n",
       "      <th>E2</th>\n",
       "      <td>0.244743</td>\n",
       "      <td>-0.678731</td>\n",
       "      <td>-0.102483</td>\n",
       "      <td>-0.112517</td>\n",
       "      <td>-0.042010</td>\n",
       "    </tr>\n",
       "    <tr>\n",
       "      <th>E3</th>\n",
       "      <td>0.024180</td>\n",
       "      <td>0.536816</td>\n",
       "      <td>0.083010</td>\n",
       "      <td>0.257906</td>\n",
       "      <td>0.280877</td>\n",
       "    </tr>\n",
       "    <tr>\n",
       "      <th>E4</th>\n",
       "      <td>-0.115614</td>\n",
       "      <td>0.646833</td>\n",
       "      <td>0.102023</td>\n",
       "      <td>0.306101</td>\n",
       "      <td>-0.073422</td>\n",
       "    </tr>\n",
       "    <tr>\n",
       "      <th>E5</th>\n",
       "      <td>0.036145</td>\n",
       "      <td>0.504069</td>\n",
       "      <td>0.312899</td>\n",
       "      <td>0.090354</td>\n",
       "      <td>0.213739</td>\n",
       "    </tr>\n",
       "    <tr>\n",
       "      <th>N1</th>\n",
       "      <td>0.786807</td>\n",
       "      <td>0.078923</td>\n",
       "      <td>-0.045997</td>\n",
       "      <td>-0.216363</td>\n",
       "      <td>-0.084704</td>\n",
       "    </tr>\n",
       "    <tr>\n",
       "      <th>N2</th>\n",
       "      <td>0.754109</td>\n",
       "      <td>0.027301</td>\n",
       "      <td>-0.030568</td>\n",
       "      <td>-0.193744</td>\n",
       "      <td>-0.010304</td>\n",
       "    </tr>\n",
       "    <tr>\n",
       "      <th>N3</th>\n",
       "      <td>0.731721</td>\n",
       "      <td>-0.061430</td>\n",
       "      <td>-0.067084</td>\n",
       "      <td>-0.027712</td>\n",
       "      <td>-0.004217</td>\n",
       "    </tr>\n",
       "    <tr>\n",
       "      <th>N4</th>\n",
       "      <td>0.590602</td>\n",
       "      <td>-0.345388</td>\n",
       "      <td>-0.178902</td>\n",
       "      <td>0.005886</td>\n",
       "      <td>0.075225</td>\n",
       "    </tr>\n",
       "    <tr>\n",
       "      <th>N5</th>\n",
       "      <td>0.537858</td>\n",
       "      <td>-0.161291</td>\n",
       "      <td>-0.037309</td>\n",
       "      <td>0.100931</td>\n",
       "      <td>-0.149769</td>\n",
       "    </tr>\n",
       "    <tr>\n",
       "      <th>O1</th>\n",
       "      <td>-0.002224</td>\n",
       "      <td>0.213005</td>\n",
       "      <td>0.115080</td>\n",
       "      <td>0.061550</td>\n",
       "      <td>0.504907</td>\n",
       "    </tr>\n",
       "    <tr>\n",
       "      <th>O2</th>\n",
       "      <td>0.175788</td>\n",
       "      <td>0.004560</td>\n",
       "      <td>-0.099729</td>\n",
       "      <td>0.081809</td>\n",
       "      <td>-0.468925</td>\n",
       "    </tr>\n",
       "    <tr>\n",
       "      <th>O3</th>\n",
       "      <td>0.026736</td>\n",
       "      <td>0.310956</td>\n",
       "      <td>0.076873</td>\n",
       "      <td>0.126889</td>\n",
       "      <td>0.596007</td>\n",
       "    </tr>\n",
       "    <tr>\n",
       "      <th>O4</th>\n",
       "      <td>0.220582</td>\n",
       "      <td>-0.191196</td>\n",
       "      <td>-0.021906</td>\n",
       "      <td>0.155475</td>\n",
       "      <td>0.369012</td>\n",
       "    </tr>\n",
       "    <tr>\n",
       "      <th>O5</th>\n",
       "      <td>0.085401</td>\n",
       "      <td>-0.005347</td>\n",
       "      <td>-0.062730</td>\n",
       "      <td>-0.010384</td>\n",
       "      <td>-0.533778</td>\n",
       "    </tr>\n",
       "  </tbody>\n",
       "</table>\n",
       "</div>"
      ],
      "text/plain": [
       "     Fator 1   Fator 2   Fator 3   Fator 4   Fator 5\n",
       "A1  0.111126  0.040465  0.022798 -0.428166 -0.077931\n",
       "A2  0.029588  0.213716  0.139037  0.626946  0.062139\n",
       "A3  0.009357  0.317848  0.109331  0.650743  0.056196\n",
       "A4 -0.066476  0.204566  0.230584  0.435624 -0.112700\n",
       "A5 -0.122113  0.393034  0.087869  0.537087  0.066708\n",
       "C1  0.010416  0.070184  0.545824  0.038878  0.209584\n",
       "C2  0.089574  0.033270  0.648731  0.102782  0.115434\n",
       "C3 -0.030855  0.023907  0.557036  0.111578 -0.005183\n",
       "C4  0.240410 -0.064984 -0.633806 -0.037498 -0.107535\n",
       "C5  0.290318 -0.176395 -0.562467 -0.047525  0.036822\n",
       "E1  0.042819 -0.574835  0.033144 -0.104813 -0.058795\n",
       "E2  0.244743 -0.678731 -0.102483 -0.112517 -0.042010\n",
       "E3  0.024180  0.536816  0.083010  0.257906  0.280877\n",
       "E4 -0.115614  0.646833  0.102023  0.306101 -0.073422\n",
       "E5  0.036145  0.504069  0.312899  0.090354  0.213739\n",
       "N1  0.786807  0.078923 -0.045997 -0.216363 -0.084704\n",
       "N2  0.754109  0.027301 -0.030568 -0.193744 -0.010304\n",
       "N3  0.731721 -0.061430 -0.067084 -0.027712 -0.004217\n",
       "N4  0.590602 -0.345388 -0.178902  0.005886  0.075225\n",
       "N5  0.537858 -0.161291 -0.037309  0.100931 -0.149769\n",
       "O1 -0.002224  0.213005  0.115080  0.061550  0.504907\n",
       "O2  0.175788  0.004560 -0.099729  0.081809 -0.468925\n",
       "O3  0.026736  0.310956  0.076873  0.126889  0.596007\n",
       "O4  0.220582 -0.191196 -0.021906  0.155475  0.369012\n",
       "O5  0.085401 -0.005347 -0.062730 -0.010384 -0.533778"
      ]
     },
     "execution_count": 37,
     "metadata": {},
     "output_type": "execute_result"
    }
   ],
   "source": [
    "fat = pd.DataFrame(fa.loadings_,\n",
    "                   columns=['Fator 1','Fator 2',\n",
    "                            'Fator 3','Fator 4','Fator 5'],\n",
    "                   index=bfi.columns)\n",
    "fat"
   ]
  },
  {
   "cell_type": "code",
   "execution_count": 38,
   "metadata": {
    "ExecuteTime": {
     "end_time": "2021-09-01T23:52:09.206405Z",
     "start_time": "2021-09-01T23:52:09.179464Z"
    }
   },
   "outputs": [
    {
     "data": {
      "text/plain": [
       "(array([2.70963262, 2.47308983, 2.04110564, 1.844498  , 1.52215297]),\n",
       " array([0.1083853 , 0.09892359, 0.08164423, 0.07377992, 0.06088612]),\n",
       " array([0.1083853 , 0.2073089 , 0.28895312, 0.36273304, 0.42361916]))"
      ]
     },
     "execution_count": 38,
     "metadata": {},
     "output_type": "execute_result"
    }
   ],
   "source": [
    "# linha 1: Soma das cargas fatoriais quadraticas (variância)\n",
    "# linha 2: Variância proporcional\n",
    "# linha 3: Variância acumulada\n",
    "# colunas representam os fatores\n",
    "fa.get_factor_variance()"
   ]
  },
  {
   "cell_type": "markdown",
   "metadata": {},
   "source": [
    "Variância cumulativa total de 42% explicada pelos 5 fatores (0.1083853 + 0.09892359 + 0.08164423 + 0.07377992 + 0.06088612).\n",
    "\n",
    "Transformando a base de entrada usando os fatores."
   ]
  },
  {
   "cell_type": "code",
   "execution_count": 39,
   "metadata": {
    "ExecuteTime": {
     "end_time": "2021-09-01T23:54:08.669692Z",
     "start_time": "2021-09-01T23:54:08.655693Z"
    }
   },
   "outputs": [],
   "source": [
    "bfi_fat = fa.transform(bfi)"
   ]
  },
  {
   "cell_type": "code",
   "execution_count": 44,
   "metadata": {
    "ExecuteTime": {
     "end_time": "2021-09-01T23:55:39.421560Z",
     "start_time": "2021-09-01T23:55:38.559560Z"
    }
   },
   "outputs": [
    {
     "data": {
      "image/png": "[encoded data removed]",
      "text/plain": [
       "<Figure size 432x288 with 6 Axes>"
      ]
     },
     "metadata": {
      "needs_background": "light"
     },
     "output_type": "display_data"
    }
   ],
   "source": [
    "bfi_fat = pd.DataFrame(bfi_fat)\n",
    "bfi_fat.hist();"
   ]
  },
  {
   "cell_type": "code",
   "execution_count": 46,
   "metadata": {
    "ExecuteTime": {
     "end_time": "2021-09-01T23:55:54.779869Z",
     "start_time": "2021-09-01T23:55:54.768867Z"
    }
   },
   "outputs": [],
   "source": [
    "bfi_fat_corr = bfi_fat.corr()"
   ]
  },
  {
   "cell_type": "code",
   "execution_count": 48,
   "metadata": {
    "ExecuteTime": {
     "end_time": "2021-09-01T23:56:15.919421Z",
     "start_time": "2021-09-01T23:56:15.546637Z"
    }
   },
   "outputs": [
    {
     "data": {
      "image/png": "[encoded data removed]",
      "text/plain": [
       "<Figure size 432x288 with 2 Axes>"
      ]
     },
     "metadata": {
      "needs_background": "light"
     },
     "output_type": "display_data"
    }
   ],
   "source": [
    "sns.heatmap(bfi_fat_corr, annot=True, cmap='RdBu');"
   ]
  },
  {
   "cell_type": "markdown",
   "metadata": {},
   "source": [
    "# PAUSA - VOLTAMOS 21:15"
   ]
  },
  {
   "cell_type": "code",
   "execution_count": null,
   "metadata": {},
   "outputs": [],
   "source": []
  },
  {
   "cell_type": "markdown",
   "metadata": {},
   "source": [
    "### Prós e Contras da Análise Fatorial\n",
    "\n",
    "A análise fatorial explora um grande conjunto de dados e encontra associações entre suas variáveis. Ele reduz as variáveis ​​observadas a algumas variáveis ​​não observadas ou identifica os grupos de variáveis ​​inter-relacionadas, que ajudam os pesquisadores de mercado a comprimir as situações de mercado e encontrar a relação oculta entre gosto, preferência e influência cultural do consumidor. Além disso, ajuda a melhorar o questionário em pesquisas futuras. Fatores tornam a interpretação de dados mais natural.\n",
    "\n",
    "Os resultados da análise fatorial são controversos. Suas interpretações podem ser discutíveis porque mais de uma interpretação pode ser feita dos mesmos fatores de dados. Após a identificação dos fatores e a nomeação dos fatores, é necessário conhecimento do domínio."
   ]
  },
  {
   "cell_type": "markdown",
   "metadata": {},
   "source": [
    "## Análise de Componentes Principais"
   ]
  },
  {
   "cell_type": "markdown",
   "metadata": {},
   "source": [
    "A análise de componente principal (PCA) é um procedimento estatístico que usa uma transformação ortogonal para converter um conjunto de observações de variáveis ​​possivelmente correlacionadas (cada uma das entidades com vários valores numéricos) em um conjunto de valores de variáveis ​​linearmente não correlacionadas chamadas componentes principais.\n",
    "\n",
    "De uma perspectiva simplificada, o PCA transforma os dados linearmente em novas propriedades que não estão correlacionadas entre si.\n",
    "\n",
    "![](https://www.statistixl.com/images/PCA1.gif)\n",
    "\n",
    "O algoritmo PCA rotaciona o dataset de forma a diminuir correlação\n",
    "\n",
    "Os componentes são ordenados por variância.\n",
    "\n",
    "Há tantos componentes quanto dimensões no espaço original.\n",
    "\n",
    "Utilizado para diminuição de dimensionalidade e escolha de componentes (ou eixos) principais."
   ]
  },
  {
   "cell_type": "markdown",
   "metadata": {},
   "source": [
    "https://setosa.io/ev/principal-component-analysis/"
   ]
  },
  {
   "cell_type": "markdown",
   "metadata": {},
   "source": [
    "### Análise Fatorial vs. Análise de componentes principais\n",
    "\n",
    "- Os componentes do PCA explicam a quantidade máxima de variância, enquanto a análise fatorial explica a covariância nos dados.\n",
    "- Os componentes do PCA são totalmente ortogonais entre si, enquanto a análise fatorial não exige que os fatores sejam ortogonais.\n",
    "- O componente PCA é uma combinação linear da variável observada, enquanto em FA, as variáveis ​​observadas são combinações lineares da variável ou fator não observado.\n",
    "- Os componentes do PCA não podem ser interpretados. Na Análise Fatorial os fatores subjacentes são rotuláveis ​​e interpretáveis.\n",
    "- PCA é um tipo de método de redução de dimensionalidade, enquanto a análise fatorial é o método de variável latente.\n",
    "- PCA é observacional enquanto Análise Fatorial é uma técnica de modelagem."
   ]
  },
  {
   "cell_type": "code",
   "execution_count": 35,
   "metadata": {
    "ExecuteTime": {
     "end_time": "2021-09-01T17:30:53.669411Z",
     "start_time": "2021-09-01T17:30:53.659379Z"
    }
   },
   "outputs": [],
   "source": [
    "from sklearn.decomposition import PCA"
   ]
  },
  {
   "cell_type": "code",
   "execution_count": null,
   "metadata": {},
   "outputs": [],
   "source": []
  },
  {
   "cell_type": "code",
   "execution_count": null,
   "metadata": {},
   "outputs": [],
   "source": []
  },
  {
   "cell_type": "markdown",
   "metadata": {},
   "source": [
    "**O PCA do sklearn centra a média dos dados em zero**"
   ]
  },
  {
   "cell_type": "code",
   "execution_count": null,
   "metadata": {},
   "outputs": [],
   "source": []
  },
  {
   "cell_type": "code",
   "execution_count": null,
   "metadata": {},
   "outputs": [],
   "source": []
  },
  {
   "cell_type": "markdown",
   "metadata": {},
   "source": [
    "Nesta decomposição do conjunto de dados Iris, a matriz vetorial fornecida por explain_variance_ratio_ indica que a maioria das informações está concentrada no primeiro componente (92,5 por cento). Portanto, é possível reduzir todo o conjunto de dados a apenas dois componentes, proporcionando uma redução de ruído e informações redundantes do conjunto de dados original."
   ]
  },
  {
   "cell_type": "code",
   "execution_count": null,
   "metadata": {},
   "outputs": [],
   "source": []
  },
  {
   "cell_type": "code",
   "execution_count": null,
   "metadata": {},
   "outputs": [],
   "source": []
  },
  {
   "cell_type": "markdown",
   "metadata": {},
   "source": [
    "Aplicando o PCA é base bfi:"
   ]
  },
  {
   "cell_type": "code",
   "execution_count": null,
   "metadata": {},
   "outputs": [],
   "source": []
  },
  {
   "cell_type": "code",
   "execution_count": null,
   "metadata": {},
   "outputs": [],
   "source": []
  },
  {
   "cell_type": "markdown",
   "metadata": {},
   "source": [
    "Veja que nessa caso nenhum componente concentra sozinho uma grande parte da informação. São necessários ao menos 20 componentes para explicar 90% da variância. \n",
    "\n",
    "Os 5 primeiros componentes concentram 48% da variância, mais ou menos a mesma variância explicada pelos 5 fatores obtidos na Análise Fatorial."
   ]
  },
  {
   "cell_type": "code",
   "execution_count": null,
   "metadata": {},
   "outputs": [],
   "source": []
  },
  {
   "cell_type": "markdown",
   "metadata": {},
   "source": [
    "### Analisando a correlação das variáveis versus a correlação dos componentes."
   ]
  },
  {
   "cell_type": "code",
   "execution_count": null,
   "metadata": {},
   "outputs": [],
   "source": []
  },
  {
   "cell_type": "code",
   "execution_count": null,
   "metadata": {},
   "outputs": [],
   "source": []
  },
  {
   "cell_type": "code",
   "execution_count": null,
   "metadata": {},
   "outputs": [],
   "source": []
  }
 ],
 "metadata": {
  "hide_input": false,
  "kernelspec": {
   "display_name": "Python 3",
   "language": "python",
   "name": "python3"
  },
  "language_info": {
   "codemirror_mode": {
    "name": "ipython",
    "version": 3
   },
   "file_extension": ".py",
   "mimetype": "text/x-python",
   "name": "python",
   "nbconvert_exporter": "python",
   "pygments_lexer": "ipython3",
   "version": "3.8.3"
  },
  "toc": {
   "base_numbering": 1,
   "nav_menu": {},
   "number_sections": true,
   "sideBar": true,
   "skip_h1_title": false,
   "title_cell": "Table of Contents",
   "title_sidebar": "Contents",
   "toc_cell": false,
   "toc_position": {
    "height": "calc(100% - 180px)",
    "left": "10px",
    "top": "150px",
    "width": "258.675px"
   },
   "toc_section_display": true,
   "toc_window_display": true
  },
  "varInspector": {
   "cols": {
    "lenName": 16,
    "lenType": 16,
    "lenVar": 40
   },
   "kernels_config": {
    "python": {
     "delete_cmd_postfix": "",
     "delete_cmd_prefix": "del ",
     "library": "var_list.py",
     "varRefreshCmd": "print(var_dic_list())"
    },
    "r": {
     "delete_cmd_postfix": ") ",
     "delete_cmd_prefix": "rm(",
     "library": "var_list.r",
     "varRefreshCmd": "cat(var_dic_list()) "
    }
   },
   "types_to_exclude": [
    "module",
    "function",
    "builtin_function_or_method",
    "instance",
    "_Feature"
   ],
   "window_display": false
  }
 },
 "nbformat": 4,
 "nbformat_minor": 4
}
